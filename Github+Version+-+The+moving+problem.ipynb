{
 "cells": [
  {
   "cell_type": "markdown",
   "metadata": {},
   "source": [
    "# Import packages"
   ]
  },
  {
   "cell_type": "code",
   "execution_count": 34,
   "metadata": {
    "collapsed": true
   },
   "outputs": [],
   "source": [
    "import numpy as np"
   ]
  },
  {
   "cell_type": "markdown",
   "metadata": {},
   "source": [
    "# Constant costs"
   ]
  },
  {
   "cell_type": "code",
   "execution_count": 35,
   "metadata": {
    "collapsed": true
   },
   "outputs": [],
   "source": [
    "Parking_downtown = 150.00\n",
    "Parking_natomas = 75.00\n",
    "Rent_downtown = 1000.00 #not a real-value\n",
    "Rent_natomas = 1500.00 #not a real-value\n",
    "Insurance_downtown = 170.00\n",
    "Insurance_natomas = 156.00\n",
    "Utilities = 100.00 \n",
    "Internet = 70.00\n",
    "Common_fixed_costs = Utilities + Internet \n",
    "# Utility is the same when I'm downtown or in Natomas"
   ]
  },
  {
   "cell_type": "markdown",
   "metadata": {},
   "source": [
    "# Variable costs"
   ]
  },
  {
   "cell_type": "markdown",
   "metadata": {},
   "source": [
    "Variables can be modeled using a probability distribution. There are several probability distributions you can go with. Based on my personal pattern, I figured that a triangular distribution would best fit me. For more info on a triangular distribution, visit https://en.wikipedia.org/wiki/Triangular_distribution"
   ]
  },
  {
   "cell_type": "code",
   "execution_count": 36,
   "metadata": {
    "collapsed": false
   },
   "outputs": [],
   "source": [
    "min_food = 200\n",
    "most_likely_food = 270\n",
    "max_food = 350\n",
    "\n",
    "min_shopping = 200\n",
    "most_likely_shopping = 400\n",
    "max_shopping = 600\n",
    "\n",
    "\n",
    "Food = np.random.triangular(min_food, most_likely_food, max_food) #whatever distribution fits\n",
    "Shopping = np.random.triangular(min_shopping, most_likely_shopping, max_shopping) #whatever distribution fits\n",
    "\n",
    "Variable_costs = Food + Shopping # need to be tied into final model"
   ]
  },
  {
   "cell_type": "markdown",
   "metadata": {},
   "source": [
    "# Constant benefits"
   ]
  },
  {
   "cell_type": "markdown",
   "metadata": {},
   "source": [
    "I am simply going to put a dollar value to my benefit. What is my dollar value gain/how much would I pay per month to have this benefit? "
   ]
  },
  {
   "cell_type": "code",
   "execution_count": 37,
   "metadata": {
    "collapsed": true
   },
   "outputs": [],
   "source": [
    "big_apartment = 75.00\n",
    "dishwasher = 50.00 \n",
    "laundry = 20.00 # how much would I save having this facility at home? \n",
    "proximity_to_work = 85 # $worth of one hour + gas money saved \n",
    "improv_class = 12.00 # saving this much just because i live downtown (no need to pay for parking)\n",
    "spa = 10.00 # just because i don't have to drive and can do this within apartment complex. :) \n",
    "bubble_bath = 4.00 \n",
    "library = 10.00"
   ]
  },
  {
   "cell_type": "markdown",
   "metadata": {},
   "source": [
    "# Variable benefits"
   ]
  },
  {
   "cell_type": "code",
   "execution_count": 38,
   "metadata": {
    "collapsed": true
   },
   "outputs": [],
   "source": [
    "no_of_events = np.random.choice(5) + 1 \n",
    "Savings = 0.00\n",
    "Lifestyle = 15.00 * no_of_events # this would be no. of events I'd attend  downtown * $ benefit\n",
    "gym = np.random.choice(50) # so random. I could like it and work out more or not like it and not work out."
   ]
  },
  {
   "cell_type": "markdown",
   "metadata": {},
   "source": [
    "# The code"
   ]
  },
  {
   "cell_type": "markdown",
   "metadata": {},
   "source": [
    "Before we go into the simulation model, let's do a sample solution without simulations"
   ]
  },
  {
   "cell_type": "markdown",
   "metadata": {},
   "source": [
    "We would need to calculate the savings first.\n",
    "This would be Salary - fixed costs - variable costs"
   ]
  },
  {
   "cell_type": "code",
   "execution_count": 39,
   "metadata": {
    "collapsed": false
   },
   "outputs": [],
   "source": [
    "min_amount = 1.00 #would be fixed component of salary\n",
    "avg_amount = 2.00 #would be average overtime I put in \n",
    "max_amount = 3.00 #when I burn myself out and this is the money I make \n",
    "\n",
    "Salary = np.random.triangular(min_amount, avg_amount, max_amount)"
   ]
  },
  {
   "cell_type": "code",
   "execution_count": 40,
   "metadata": {
    "collapsed": false
   },
   "outputs": [],
   "source": [
    "Cost_downtown = Parking_downtown + Rent_downtown + Insurance_downtown + Fixed_costs \n",
    "Cost_natomas = Parking_natomas + Rent_natomas + Insurance_natomas + Fixed_costs \n",
    "\n",
    "Savings_downtown = Salary - Cost_downtown - Variable_costs\n",
    "Savings_natomas = Salary - Cost_natomas - Variable_costs"
   ]
  },
  {
   "cell_type": "code",
   "execution_count": 41,
   "metadata": {
    "collapsed": false
   },
   "outputs": [],
   "source": [
    "benefits_downtown = Savings + Lifestyle + gym + proximity_to_work + comedy_class + spa + library\n",
    "benefits_natomas = Savings + big_apartment + dishwasher + laundry "
   ]
  },
  {
   "cell_type": "code",
   "execution_count": 42,
   "metadata": {
    "collapsed": true
   },
   "outputs": [],
   "source": [
    "happy_ratio_downtown = benefits_downtown/Savings_downtown\n",
    "happy_ratio_natomas = benefits_natomas/Savings_natomas"
   ]
  },
  {
   "cell_type": "code",
   "execution_count": 43,
   "metadata": {
    "collapsed": true
   },
   "outputs": [],
   "source": [
    "#Goal is to calculate a bunch of happy ratios. Right?\n",
    "def Decision_Maker(n):\n",
    "    \n",
    "    'Calculating Salary'\n",
    "    Salary = np.random.triangular(min_amount, avg_amount, max_amount, n)\n",
    "    \n",
    "    'Calculating variable costs'\n",
    "    Food = np.random.triangular(min_food, most_likely_food, max_food, n) # whatever distribution fits\n",
    "    Shopping = np.random.triangular(min_shopping, most_likely_shopping, max_shopping, n) #whatever distribution fits\n",
    "    Variable_costs = Food + Shopping # need to be tied into final model\n",
    "    print('***** Variable Costs *****')\n",
    "    print(Variable_costs)\n",
    "    print('\\n')\n",
    "    \n",
    "    'Calculating constant costs'\n",
    "    Parking_downtown = 150.00\n",
    "    Parking_natomas = 75.00\n",
    "    Rent_downtown = 1000.00 #Not a real-value\n",
    "    Rent_natomas = 1500.00 #Not a real-value\n",
    "    Insurance_downtown = 170.00\n",
    "    Insurance_natomas = 156.00\n",
    "    Utilities = 100.00 \n",
    "    Internet = 70.00\n",
    "    Fixed_costs = Utilities + Internet\n",
    "    print('***** Fixed costs *******')\n",
    "    print(Fixed_costs)\n",
    "    print('\\n')\n",
    "    \n",
    "    'Calculating costs of living downtown'\n",
    "    Cost_downtown = Parking_downtown + Rent_downtown + Insurance_downtown + Fixed_costs \n",
    "    print(\"***** Fixed Cost of living downtown ******\")\n",
    "    print(Cost_downtown)\n",
    "    print('\\n')\n",
    "    \n",
    "    'Calculating costs of living in natomas'\n",
    "    Cost_natomas = Parking_natomas + Rent_natomas + Insurance_natomas + Fixed_costs \n",
    "    print(\"***** Fixed Cost of living in natomas *****\")\n",
    "    print(Cost_natomas)\n",
    "    print('\\n')\n",
    "    \n",
    "    'Setting constant benefit values'\n",
    "    big_apartment = 120.00\n",
    "    dishwasher = 50.00\n",
    "    laundry = 20.00 # how much would i save having this facility? that is my monetary benefit.\n",
    "    proximity_to_work = 85 \n",
    "    improv_class = 12.00 # saving this much just because i live downtown\n",
    "    spa = 10.00 # just because i don't have to drive and can do this within apartment complex. :) \n",
    "    bubble_bath = 4.00 \n",
    "    library = 10.00\n",
    "      \n",
    "    'Setting variable benefits'\n",
    "    Savings_downtown = Salary - Cost_downtown - Variable_costs\n",
    "    print('**** Savings downtown *****')\n",
    "    print(Savings_downtown)\n",
    "    print('\\n')\n",
    "    \n",
    "    Savings_natomas = Salary - Cost_natomas - Variable_costs\n",
    "    print('**** Savings natomas *****')\n",
    "    print(Savings_natomas)\n",
    "    print('\\n')\n",
    "    \n",
    "    no_of_events = np.random.choice(5) + 1 #I would attend 1-5 events with equal prob distribution\n",
    "    Lifestyle = 10*no_of_events\n",
    "    \n",
    "    will_gym = np.random.choice(2, n) #would either go or not go. Benefit = $50 because this is how much I would pay for working out\n",
    "    #but wouldn't need to pay this because the downtown apartment has a nicer gym.\n",
    "    gym_benefit = will_gym*50.00\n",
    "    print(\"**** will gym values ******\")\n",
    "    print(gym_benefit)\n",
    "    print(\"\\n\")\n",
    "    \n",
    "    'Setting benefit values'\n",
    "    benefits_downtown = Savings_downtown + proximity_to_work + improv_class + spa + library + gym_benefit\n",
    "    print(\"***** Benefit downtown *****\")\n",
    "    print(benefits_downtown)\n",
    "    print(\"\\n\")\n",
    "    \n",
    "    benefits_natomas = Savings_natomas + big_apartment + dishwasher + laundry + bubble_bath\n",
    "    print(\"***** Benefits natomas *****\")\n",
    "    print(benefits_natomas)\n",
    "    print(\"\\n\")\n",
    "    \n",
    "    \"Calculating happy ratios\"\n",
    "    happy_ratio_downtown = benefits_downtown/(Cost_downtown)\n",
    "    print(\"**** Happy ratio downtown *****\")\n",
    "    print(happy_ratio_downtown)\n",
    "    print(\"\\n\")\n",
    "    \n",
    "    happy_ratio_natomas = benefits_natomas/(Cost_natomas)\n",
    "    print(\"**** Happy ratio natomas *****\")\n",
    "    print(happy_ratio_natomas)\n",
    "    print(\"\\n\")\n",
    "    \n",
    "    \"Calculating average happy ratio\"\n",
    "    print(\"****** DOWNTOWN *********\")\n",
    "    print(sum(happy_ratio_downtown)/n)\n",
    "    \n",
    "    print(\"***** NATOMAS*****\")\n",
    "    print(sum(happy_ratio_natomas)/n)"
   ]
  },
  {
   "cell_type": "code",
   "execution_count": 44,
   "metadata": {
    "collapsed": false
   },
   "outputs": [
    {
     "name": "stdout",
     "output_type": "stream",
     "text": [
      "***** Variable Costs *****\n",
      "[ 670.04596672  694.44094249  579.60399695  801.09392895  651.68242367\n",
      "  826.46770277  790.28145607  713.87384305  855.20899096  822.58774363\n",
      "  825.36531128  741.35181918  726.08105129  717.06072083  763.75112469\n",
      "  660.24561746  705.63196337  806.39558915  625.99315479  564.68899621\n",
      "  688.01974649  495.86716445  772.22667602  838.03920912  639.4575868\n",
      "  852.32064027  696.55692995  585.77359209  531.85090048  767.5527446\n",
      "  771.04701708  614.112663    743.40113461  744.9190107   582.19971442\n",
      "  606.03975242  540.09602957  618.76714879  683.37664363  661.4585853\n",
      "  676.79593089  623.72057481  732.84603223  678.93657972  742.85442326\n",
      "  555.08138184  776.30308538  584.88108963  530.14220962  649.29626658\n",
      "  747.19971296  580.55804897  648.24290675  752.50244287  638.20373896\n",
      "  537.73083707  507.31919305  716.44900936  573.66742428  625.68297991\n",
      "  698.46643879  841.37398158  577.44019647  526.24765541  630.41308789\n",
      "  690.51125748  808.65293502  754.43822649  641.11999679  693.56761148\n",
      "  636.93577882  764.31395839  594.21154887  538.44624591  721.93919093\n",
      "  716.30491124  715.7269463   693.99543954  730.19488109  640.65598892\n",
      "  494.23719548  601.79904321  830.06924526  675.00284324  754.85632854\n",
      "  735.77636538  582.91904877  626.71660132  568.66691144  520.53441537\n",
      "  810.47819778  685.33310102  683.12722228  750.37415517  816.81848951\n",
      "  641.61230731  679.75695131  655.88539856  727.87832801  662.804703  ]\n",
      "\n",
      "\n",
      "***** Fixed costs *******\n",
      "170.0\n",
      "\n",
      "\n",
      "***** Fixed Cost of living downtown ******\n",
      "1740.0\n",
      "\n",
      "\n",
      "***** Fixed Cost of living in natomas *****\n",
      "1781.0\n",
      "\n",
      "\n",
      "**** Savings downtown *****\n",
      "[-2408.1626386  -2432.08321641 -2316.99470824 -2538.53317891 -2390.23708843\n",
      " -2563.75421164 -2528.66802798 -2451.79567689 -2593.80413141 -2560.63060776\n",
      " -2563.10379841 -2479.69186162 -2463.71418688 -2455.32842141 -2502.05624114\n",
      " -2398.67477568 -2443.13434194 -2544.48562957 -2363.57454842 -2302.63572697\n",
      " -2425.51338489 -2233.79654764 -2509.91364224 -2576.13564114 -2377.41460305\n",
      " -2590.31829468 -2434.40938034 -2323.48033463 -2270.52866967 -2505.98763694\n",
      " -2509.24844168 -2351.82064133 -2481.86894906 -2483.55140257 -2320.01850982\n",
      " -2344.07633    -2277.94854197 -2356.93450808 -2420.86671398 -2399.78964557\n",
      " -2415.18453961 -2361.23082551 -2470.96783513 -2417.27169998 -2480.66931377\n",
      " -2293.44811166 -2514.74744857 -2322.79671469 -2267.76888665 -2387.96321599\n",
      " -2484.33251527 -2318.71518785 -2386.47550992 -2490.83365068 -2376.23158264\n",
      " -2275.89964522 -2245.9412873  -2454.62411559 -2311.80942747 -2363.63071645\n",
      " -2436.64028189 -2579.63641746 -2315.34415265 -2264.51756454 -2368.7519129\n",
      " -2428.36219434 -2546.62748766 -2491.66498558 -2379.73976496 -2431.83916526\n",
      " -2374.77099042 -2502.74097162 -2332.08923103 -2276.98658    -2459.50706772\n",
      " -2454.2485763  -2453.82926283 -2431.12428505 -2467.71262034 -2378.56917833\n",
      " -2232.53483269 -2339.35381766 -2568.03401219 -2413.08237812 -2492.16147411\n",
      " -2473.50732144 -2321.2796425  -2364.09080529 -2306.70042792 -2258.06734171\n",
      " -2547.82337851 -2423.49975728 -2421.42512736 -2488.02392265 -2555.12764836\n",
      " -2379.9628933  -2417.71578598 -2394.03859214 -2465.77120986 -2400.31603698]\n",
      "\n",
      "\n",
      "**** Savings natomas *****\n",
      "[-2449.1626386  -2473.08321641 -2357.99470824 -2579.53317891 -2431.23708843\n",
      " -2604.75421164 -2569.66802798 -2492.79567689 -2634.80413141 -2601.63060776\n",
      " -2604.10379841 -2520.69186162 -2504.71418688 -2496.32842141 -2543.05624114\n",
      " -2439.67477568 -2484.13434194 -2585.48562957 -2404.57454842 -2343.63572697\n",
      " -2466.51338489 -2274.79654764 -2550.91364224 -2617.13564114 -2418.41460305\n",
      " -2631.31829468 -2475.40938034 -2364.48033463 -2311.52866967 -2546.98763694\n",
      " -2550.24844168 -2392.82064133 -2522.86894906 -2524.55140257 -2361.01850982\n",
      " -2385.07633    -2318.94854197 -2397.93450808 -2461.86671398 -2440.78964557\n",
      " -2456.18453961 -2402.23082551 -2511.96783513 -2458.27169998 -2521.66931377\n",
      " -2334.44811166 -2555.74744857 -2363.79671469 -2308.76888665 -2428.96321599\n",
      " -2525.33251527 -2359.71518785 -2427.47550992 -2531.83365068 -2417.23158264\n",
      " -2316.89964522 -2286.9412873  -2495.62411559 -2352.80942747 -2404.63071645\n",
      " -2477.64028189 -2620.63641746 -2356.34415265 -2305.51756454 -2409.7519129\n",
      " -2469.36219434 -2587.62748766 -2532.66498558 -2420.73976496 -2472.83916526\n",
      " -2415.77099042 -2543.74097162 -2373.08923103 -2317.98658    -2500.50706772\n",
      " -2495.2485763  -2494.82926283 -2472.12428505 -2508.71262034 -2419.56917833\n",
      " -2273.53483269 -2380.35381766 -2609.03401219 -2454.08237812 -2533.16147411\n",
      " -2514.50732144 -2362.2796425  -2405.09080529 -2347.70042792 -2299.06734171\n",
      " -2588.82337851 -2464.49975728 -2462.42512736 -2529.02392265 -2596.12764836\n",
      " -2420.9628933  -2458.71578598 -2435.03859214 -2506.77120986 -2441.31603698]\n",
      "\n",
      "\n",
      "**** will gym values ******\n",
      "[  0.   0.  50.  50.  50.   0.   0.  50.   0.  50.  50.   0.  50.   0.   0.\n",
      "  50.  50.   0.   0.   0.  50.  50.   0.   0.   0.  50.  50.   0.   0.  50.\n",
      "  50.  50.   0.   0.  50.   0.   0.  50.  50.  50.  50.  50.  50.  50.   0.\n",
      "   0.  50.  50.   0.   0.   0.  50.   0.   0.  50.  50.  50.  50.   0.   0.\n",
      "   0.   0.  50.   0.   0.  50.  50.  50.   0.   0.   0.  50.   0.   0.   0.\n",
      "  50.  50.   0.  50.   0.  50.  50.   0.  50.   0.  50.   0.   0.  50.   0.\n",
      "   0.  50.   0.  50.  50.  50.  50.  50.  50.   0.]\n",
      "\n",
      "\n",
      "***** Benefit downtown *****\n",
      "[-2291.1626386  -2315.08321641 -2149.99470824 -2371.53317891 -2223.23708843\n",
      " -2446.75421164 -2411.66802798 -2284.79567689 -2476.80413141 -2393.63060776\n",
      " -2396.10379841 -2362.69186162 -2296.71418688 -2338.32842141 -2385.05624114\n",
      " -2231.67477568 -2276.13434194 -2427.48562957 -2246.57454842 -2185.63572697\n",
      " -2258.51338489 -2066.79654764 -2392.91364224 -2459.13564114 -2260.41460305\n",
      " -2423.31829468 -2267.40938034 -2206.48033463 -2153.52866967 -2338.98763694\n",
      " -2342.24844168 -2184.82064133 -2364.86894906 -2366.55140257 -2153.01850982\n",
      " -2227.07633    -2160.94854197 -2189.93450808 -2253.86671398 -2232.78964557\n",
      " -2248.18453961 -2194.23082551 -2303.96783513 -2250.27169998 -2363.66931377\n",
      " -2176.44811166 -2347.74744857 -2155.79671469 -2150.76888665 -2270.96321599\n",
      " -2367.33251527 -2151.71518785 -2269.47550992 -2373.83365068 -2209.23158264\n",
      " -2108.89964522 -2078.9412873  -2287.62411559 -2194.80942747 -2246.63071645\n",
      " -2319.64028189 -2462.63641746 -2148.34415265 -2147.51756454 -2251.7519129\n",
      " -2261.36219434 -2379.62748766 -2324.66498558 -2262.73976496 -2314.83916526\n",
      " -2257.77099042 -2335.74097162 -2215.08923103 -2159.98658    -2342.50706772\n",
      " -2287.2485763  -2286.82926283 -2314.12428505 -2300.71262034 -2261.56917833\n",
      " -2065.53483269 -2172.35381766 -2451.03401219 -2246.08237812 -2375.16147411\n",
      " -2306.50732144 -2204.2796425  -2247.09080529 -2139.70042792 -2141.06734171\n",
      " -2430.82337851 -2256.49975728 -2304.42512736 -2321.02392265 -2388.12764836\n",
      " -2212.9628933  -2250.71578598 -2227.03859214 -2298.77120986 -2283.31603698]\n",
      "\n",
      "\n",
      "***** Benefits natomas *****\n",
      "[-2255.1626386  -2279.08321641 -2163.99470824 -2385.53317891 -2237.23708843\n",
      " -2410.75421164 -2375.66802798 -2298.79567689 -2440.80413141 -2407.63060776\n",
      " -2410.10379841 -2326.69186162 -2310.71418688 -2302.32842141 -2349.05624114\n",
      " -2245.67477568 -2290.13434194 -2391.48562957 -2210.57454842 -2149.63572697\n",
      " -2272.51338489 -2080.79654764 -2356.91364224 -2423.13564114 -2224.41460305\n",
      " -2437.31829468 -2281.40938034 -2170.48033463 -2117.52866967 -2352.98763694\n",
      " -2356.24844168 -2198.82064133 -2328.86894906 -2330.55140257 -2167.01850982\n",
      " -2191.07633    -2124.94854197 -2203.93450808 -2267.86671398 -2246.78964557\n",
      " -2262.18453961 -2208.23082551 -2317.96783513 -2264.27169998 -2327.66931377\n",
      " -2140.44811166 -2361.74744857 -2169.79671469 -2114.76888665 -2234.96321599\n",
      " -2331.33251527 -2165.71518785 -2233.47550992 -2337.83365068 -2223.23158264\n",
      " -2122.89964522 -2092.9412873  -2301.62411559 -2158.80942747 -2210.63071645\n",
      " -2283.64028189 -2426.63641746 -2162.34415265 -2111.51756454 -2215.7519129\n",
      " -2275.36219434 -2393.62748766 -2338.66498558 -2226.73976496 -2278.83916526\n",
      " -2221.77099042 -2349.74097162 -2179.08923103 -2123.98658    -2306.50706772\n",
      " -2301.2485763  -2300.82926283 -2278.12428505 -2314.71262034 -2225.56917833\n",
      " -2079.53483269 -2186.35381766 -2415.03401219 -2260.08237812 -2339.16147411\n",
      " -2320.50732144 -2168.2796425  -2211.09080529 -2153.70042792 -2105.06734171\n",
      " -2394.82337851 -2270.49975728 -2268.42512736 -2335.02392265 -2402.12764836\n",
      " -2226.9628933  -2264.71578598 -2241.03859214 -2312.77120986 -2247.31603698]\n",
      "\n",
      "\n",
      "**** Happy ratio downtown *****\n",
      "[-1.31676014 -1.3305076  -1.23562914 -1.3629501  -1.27772246 -1.40618058\n",
      " -1.38601611 -1.31310096 -1.42345065 -1.37564977 -1.37707115 -1.35786889\n",
      " -1.31995068 -1.34386691 -1.37072198 -1.28257171 -1.30812319 -1.39510668\n",
      " -1.2911348  -1.25611249 -1.2979962  -1.18781411 -1.37523773 -1.41329635\n",
      " -1.29908885 -1.39271166 -1.30310884 -1.26809215 -1.23766015 -1.34424577\n",
      " -1.34611979 -1.25564405 -1.35912009 -1.36008701 -1.23736696 -1.27992893\n",
      " -1.24192445 -1.25858305 -1.2953257  -1.28321244 -1.29206008 -1.2610522\n",
      " -1.32411945 -1.2932596  -1.35843064 -1.25083225 -1.34928014 -1.23896363\n",
      " -1.23607407 -1.30515127 -1.36053593 -1.23661792 -1.30429627 -1.36427221\n",
      " -1.26967332 -1.21201129 -1.19479384 -1.3147265  -1.26138473 -1.29116708\n",
      " -1.3331266  -1.41530829 -1.23468055 -1.2342055  -1.29411029 -1.29963345\n",
      " -1.367602   -1.33601436 -1.30042515 -1.33036734 -1.29756953 -1.34237987\n",
      " -1.27303979 -1.2413716  -1.34626843 -1.31451068 -1.31426969 -1.32995649\n",
      " -1.32224863 -1.2997524  -1.18708898 -1.24847921 -1.40864024 -1.29085194\n",
      " -1.36503533 -1.32557892 -1.26682738 -1.2914315  -1.22971289 -1.23049847\n",
      " -1.39702493 -1.29683894 -1.32438226 -1.33392179 -1.37248715 -1.27181775\n",
      " -1.29351482 -1.27990724 -1.32113288 -1.3122506 ]\n",
      "\n",
      "\n",
      "**** Happy ratio natomas *****\n",
      "[-1.26623394 -1.27966492 -1.21504475 -1.33943469 -1.25616906 -1.35359585\n",
      " -1.33389558 -1.29073311 -1.37046835 -1.351842   -1.35323066 -1.30639633\n",
      " -1.29742515 -1.29271669 -1.31895353 -1.26090667 -1.28586993 -1.34277688\n",
      " -1.24119851 -1.20698244 -1.27597607 -1.16833046 -1.32336532 -1.36054781\n",
      " -1.24896946 -1.36851111 -1.28097102 -1.21868632 -1.1889549  -1.32116094\n",
      " -1.32299183 -1.2345989  -1.30761872 -1.30856339 -1.21674257 -1.23025061\n",
      " -1.19312102 -1.23747025 -1.27336705 -1.26153265 -1.27017661 -1.23988255\n",
      " -1.30149794 -1.27134851 -1.30694515 -1.20182376 -1.32607942 -1.21830248\n",
      " -1.18740533 -1.25489232 -1.30900197 -1.21601077 -1.254057   -1.31265225\n",
      " -1.24830521 -1.1919706  -1.17514952 -1.29232123 -1.21213331 -1.24123005\n",
      " -1.28222363 -1.36251343 -1.214118   -1.18557977 -1.24410551 -1.27757563\n",
      " -1.3439795  -1.31311903 -1.25027499 -1.27952789 -1.24748512 -1.319338\n",
      " -1.22352006 -1.1925809  -1.29506292 -1.29211037 -1.29187494 -1.27912649\n",
      " -1.2996702  -1.24961773 -1.16762203 -1.227599   -1.35599888 -1.26899628\n",
      " -1.3133978  -1.30292382 -1.21745067 -1.24148838 -1.2092647  -1.18195808\n",
      " -1.34465097 -1.27484546 -1.27368059 -1.31107463 -1.34875219 -1.25040028\n",
      " -1.27159786 -1.25830353 -1.29858013 -1.26182821]\n",
      "\n",
      "\n",
      "****** DOWNTOWN *********\n",
      "-1.30760026531\n",
      "***** NATOMAS*****\n",
      "-1.27160272973\n"
     ]
    }
   ],
   "source": [
    "Decision_Maker(100)"
   ]
  },
  {
   "cell_type": "code",
   "execution_count": null,
   "metadata": {
    "collapsed": true
   },
   "outputs": [],
   "source": []
  }
 ],
 "metadata": {
  "kernelspec": {
   "display_name": "Python 3",
   "language": "python",
   "name": "python3"
  },
  "language_info": {
   "codemirror_mode": {
    "name": "ipython",
    "version": 3
   },
   "file_extension": ".py",
   "mimetype": "text/x-python",
   "name": "python",
   "nbconvert_exporter": "python",
   "pygments_lexer": "ipython3",
   "version": "3.6.0"
  }
 },
 "nbformat": 4,
 "nbformat_minor": 2
}
